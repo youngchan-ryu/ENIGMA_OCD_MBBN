{
 "cells": [
  {
   "cell_type": "markdown",
   "id": "86da5a21-e9fb-4f9e-963b-2cc1c21fa1df",
   "metadata": {},
   "source": [
    "### Read exclude.json file"
   ]
  },
  {
   "cell_type": "code",
   "execution_count": 15,
   "id": "f9029680-2b3b-4f45-89d1-093c02a00e79",
   "metadata": {
    "tags": []
   },
   "outputs": [],
   "source": [
    "import pandas as pd\n",
    "import json\n",
    "\n",
    "# Load the JSON file into a DataFrame\n",
    "with open(\"/pscratch/sd/p/pakmasha/ENIGMA_unzip/Rome_FSL/exclude.json\", \"r\") as file:\n",
    "    data = json.load(file)\n",
    "\n",
    "df = pd.DataFrame(data)"
   ]
  },
  {
   "cell_type": "code",
   "execution_count": 16,
   "id": "dad9b366-2482-4010-8d1b-472e7e0e477a",
   "metadata": {
    "tags": []
   },
   "outputs": [
    {
     "data": {
      "text/html": [
       "<div>\n",
       "<style scoped>\n",
       "    .dataframe tbody tr th:only-of-type {\n",
       "        vertical-align: middle;\n",
       "    }\n",
       "\n",
       "    .dataframe tbody tr th {\n",
       "        vertical-align: top;\n",
       "    }\n",
       "\n",
       "    .dataframe thead th {\n",
       "        text-align: right;\n",
       "    }\n",
       "</style>\n",
       "<table border=\"1\" class=\"dataframe\">\n",
       "  <thead>\n",
       "    <tr style=\"text-align: right;\">\n",
       "      <th></th>\n",
       "      <th>sub</th>\n",
       "      <th>type</th>\n",
       "      <th>rating</th>\n",
       "      <th>task</th>\n",
       "    </tr>\n",
       "  </thead>\n",
       "  <tbody>\n",
       "    <tr>\n",
       "      <th>0</th>\n",
       "      <td>subj224</td>\n",
       "      <td>skull_strip_report</td>\n",
       "      <td>good</td>\n",
       "      <td>NaN</td>\n",
       "    </tr>\n",
       "    <tr>\n",
       "      <th>1</th>\n",
       "      <td>subj224</td>\n",
       "      <td>t1_norm_rpt</td>\n",
       "      <td>good</td>\n",
       "      <td>NaN</td>\n",
       "    </tr>\n",
       "    <tr>\n",
       "      <th>2</th>\n",
       "      <td>subj223</td>\n",
       "      <td>skull_strip_report</td>\n",
       "      <td>good</td>\n",
       "      <td>NaN</td>\n",
       "    </tr>\n",
       "    <tr>\n",
       "      <th>3</th>\n",
       "      <td>subj223</td>\n",
       "      <td>t1_norm_rpt</td>\n",
       "      <td>good</td>\n",
       "      <td>NaN</td>\n",
       "    </tr>\n",
       "    <tr>\n",
       "      <th>4</th>\n",
       "      <td>subj225</td>\n",
       "      <td>skull_strip_report</td>\n",
       "      <td>good</td>\n",
       "      <td>NaN</td>\n",
       "    </tr>\n",
       "  </tbody>\n",
       "</table>\n",
       "</div>"
      ],
      "text/plain": [
       "       sub                type rating task\n",
       "0  subj224  skull_strip_report   good  NaN\n",
       "1  subj224         t1_norm_rpt   good  NaN\n",
       "2  subj223  skull_strip_report   good  NaN\n",
       "3  subj223         t1_norm_rpt   good  NaN\n",
       "4  subj225  skull_strip_report   good  NaN"
      ]
     },
     "execution_count": 16,
     "metadata": {},
     "output_type": "execute_result"
    }
   ],
   "source": [
    "df.head()"
   ]
  },
  {
   "cell_type": "code",
   "execution_count": 17,
   "id": "4462e9e8-eb84-48aa-bc2d-c3f002a695e0",
   "metadata": {
    "tags": []
   },
   "outputs": [
    {
     "data": {
      "text/plain": [
       "71"
      ]
     },
     "execution_count": 17,
     "metadata": {},
     "output_type": "execute_result"
    }
   ],
   "source": [
    "df[\"sub\"].nunique()"
   ]
  },
  {
   "cell_type": "code",
   "execution_count": 18,
   "id": "702c40b5-e0b6-4475-bd27-04653353ac44",
   "metadata": {
    "tags": []
   },
   "outputs": [
    {
     "data": {
      "text/plain": [
       "rating\n",
       "good         370\n",
       "bad           43\n",
       "uncertain     13\n",
       "Name: count, dtype: int64"
      ]
     },
     "execution_count": 18,
     "metadata": {},
     "output_type": "execute_result"
    }
   ],
   "source": [
    "df[\"rating\"].value_counts()"
   ]
  },
  {
   "cell_type": "markdown",
   "id": "fea2395f-7d8d-4ab1-8a46-4f86aafc201e",
   "metadata": {},
   "source": [
    "### Uncertain ratings"
   ]
  },
  {
   "cell_type": "code",
   "execution_count": 19,
   "id": "53c89644-fff8-4099-8c3a-9c6e5aa3620d",
   "metadata": {
    "tags": []
   },
   "outputs": [
    {
     "name": "stdout",
     "output_type": "stream",
     "text": [
      "13\n"
     ]
    }
   ],
   "source": [
    "uncertain_ratings = df[df[\"rating\"] == \"uncertain\"]\n",
    "uncertain_ratings_sorted = uncertain_ratings.sort_values(by=\"sub\")\n",
    "print(uncertain_ratings_sorted[\"sub\"].nunique())\n",
    "#uncertain_ratings_sorted"
   ]
  },
  {
   "cell_type": "code",
   "execution_count": 20,
   "id": "d09c852c-33d0-437a-87fb-2f8ca981008d",
   "metadata": {
    "tags": []
   },
   "outputs": [
    {
     "name": "stdout",
     "output_type": "stream",
     "text": [
      "type\n",
      "bold_conf     2\n",
      "ica_aroma    10\n",
      "tsnr_rpt      1\n",
      "Name: sub, dtype: int64\n"
     ]
    }
   ],
   "source": [
    "# Count unique 'sub' values for each 'type'\n",
    "unique_sub_counts = uncertain_ratings.groupby('type')['sub'].nunique()\n",
    "\n",
    "# Display the result\n",
    "print(unique_sub_counts)"
   ]
  },
  {
   "cell_type": "code",
   "execution_count": 21,
   "id": "7312b353-68d3-4c2b-a384-99f72938a1ae",
   "metadata": {
    "tags": []
   },
   "outputs": [],
   "source": [
    "#uncertain_ratings_sorted[150:]"
   ]
  },
  {
   "cell_type": "markdown",
   "id": "dccd5e16-6a25-40b8-9443-25927f80a202",
   "metadata": {},
   "source": [
    "### Bad ratings"
   ]
  },
  {
   "cell_type": "code",
   "execution_count": 22,
   "id": "616da19e-12b0-4598-8bb6-bc52012ef480",
   "metadata": {
    "tags": []
   },
   "outputs": [
    {
     "name": "stdout",
     "output_type": "stream",
     "text": [
      "37\n"
     ]
    },
    {
     "data": {
      "text/html": [
       "<div>\n",
       "<style scoped>\n",
       "    .dataframe tbody tr th:only-of-type {\n",
       "        vertical-align: middle;\n",
       "    }\n",
       "\n",
       "    .dataframe tbody tr th {\n",
       "        vertical-align: top;\n",
       "    }\n",
       "\n",
       "    .dataframe thead th {\n",
       "        text-align: right;\n",
       "    }\n",
       "</style>\n",
       "<table border=\"1\" class=\"dataframe\">\n",
       "  <thead>\n",
       "    <tr style=\"text-align: right;\">\n",
       "      <th></th>\n",
       "      <th>sub</th>\n",
       "      <th>type</th>\n",
       "      <th>rating</th>\n",
       "      <th>task</th>\n",
       "    </tr>\n",
       "  </thead>\n",
       "  <tbody>\n",
       "    <tr>\n",
       "      <th>320</th>\n",
       "      <td>subj126</td>\n",
       "      <td>tsnr_rpt</td>\n",
       "      <td>bad</td>\n",
       "      <td>RestingState</td>\n",
       "    </tr>\n",
       "    <tr>\n",
       "      <th>329</th>\n",
       "      <td>subj141</td>\n",
       "      <td>tsnr_rpt</td>\n",
       "      <td>bad</td>\n",
       "      <td>RestingState</td>\n",
       "    </tr>\n",
       "    <tr>\n",
       "      <th>331</th>\n",
       "      <td>subj142</td>\n",
       "      <td>epi_norm_rpt</td>\n",
       "      <td>bad</td>\n",
       "      <td>RestingState</td>\n",
       "    </tr>\n",
       "    <tr>\n",
       "      <th>340</th>\n",
       "      <td>subj146</td>\n",
       "      <td>epi_norm_rpt</td>\n",
       "      <td>bad</td>\n",
       "      <td>RestingState</td>\n",
       "    </tr>\n",
       "    <tr>\n",
       "      <th>348</th>\n",
       "      <td>subj150</td>\n",
       "      <td>tsnr_rpt</td>\n",
       "      <td>bad</td>\n",
       "      <td>RestingState</td>\n",
       "    </tr>\n",
       "    <tr>\n",
       "      <th>354</th>\n",
       "      <td>subj153</td>\n",
       "      <td>tsnr_rpt</td>\n",
       "      <td>bad</td>\n",
       "      <td>RestingState</td>\n",
       "    </tr>\n",
       "    <tr>\n",
       "      <th>363</th>\n",
       "      <td>subj156</td>\n",
       "      <td>tsnr_rpt</td>\n",
       "      <td>bad</td>\n",
       "      <td>RestingState</td>\n",
       "    </tr>\n",
       "    <tr>\n",
       "      <th>369</th>\n",
       "      <td>subj159</td>\n",
       "      <td>tsnr_rpt</td>\n",
       "      <td>bad</td>\n",
       "      <td>RestingState</td>\n",
       "    </tr>\n",
       "    <tr>\n",
       "      <th>375</th>\n",
       "      <td>subj202</td>\n",
       "      <td>epi_norm_rpt</td>\n",
       "      <td>bad</td>\n",
       "      <td>RestingState</td>\n",
       "    </tr>\n",
       "    <tr>\n",
       "      <th>384</th>\n",
       "      <td>subj205</td>\n",
       "      <td>epi_norm_rpt</td>\n",
       "      <td>bad</td>\n",
       "      <td>RestingState</td>\n",
       "    </tr>\n",
       "    <tr>\n",
       "      <th>387</th>\n",
       "      <td>subj206</td>\n",
       "      <td>epi_norm_rpt</td>\n",
       "      <td>bad</td>\n",
       "      <td>RestingState</td>\n",
       "    </tr>\n",
       "    <tr>\n",
       "      <th>396</th>\n",
       "      <td>subj211</td>\n",
       "      <td>epi_norm_rpt</td>\n",
       "      <td>bad</td>\n",
       "      <td>RestingState</td>\n",
       "    </tr>\n",
       "    <tr>\n",
       "      <th>409</th>\n",
       "      <td>subj215</td>\n",
       "      <td>tsnr_rpt</td>\n",
       "      <td>bad</td>\n",
       "      <td>RestingState</td>\n",
       "    </tr>\n",
       "    <tr>\n",
       "      <th>408</th>\n",
       "      <td>subj215</td>\n",
       "      <td>epi_norm_rpt</td>\n",
       "      <td>bad</td>\n",
       "      <td>RestingState</td>\n",
       "    </tr>\n",
       "    <tr>\n",
       "      <th>411</th>\n",
       "      <td>subj216</td>\n",
       "      <td>epi_norm_rpt</td>\n",
       "      <td>bad</td>\n",
       "      <td>RestingState</td>\n",
       "    </tr>\n",
       "    <tr>\n",
       "      <th>414</th>\n",
       "      <td>subj217</td>\n",
       "      <td>epi_norm_rpt</td>\n",
       "      <td>bad</td>\n",
       "      <td>RestingState</td>\n",
       "    </tr>\n",
       "    <tr>\n",
       "      <th>423</th>\n",
       "      <td>subj221</td>\n",
       "      <td>epi_norm_rpt</td>\n",
       "      <td>bad</td>\n",
       "      <td>RestingState</td>\n",
       "    </tr>\n",
       "    <tr>\n",
       "      <th>111</th>\n",
       "      <td>subj225</td>\n",
       "      <td>epi_norm_rpt</td>\n",
       "      <td>bad</td>\n",
       "      <td>RestingState</td>\n",
       "    </tr>\n",
       "    <tr>\n",
       "      <th>117</th>\n",
       "      <td>subj403</td>\n",
       "      <td>epi_norm_rpt</td>\n",
       "      <td>bad</td>\n",
       "      <td>RestingState</td>\n",
       "    </tr>\n",
       "    <tr>\n",
       "      <th>118</th>\n",
       "      <td>subj403</td>\n",
       "      <td>tsnr_rpt</td>\n",
       "      <td>bad</td>\n",
       "      <td>RestingState</td>\n",
       "    </tr>\n",
       "    <tr>\n",
       "      <th>120</th>\n",
       "      <td>subj404</td>\n",
       "      <td>epi_norm_rpt</td>\n",
       "      <td>bad</td>\n",
       "      <td>RestingState</td>\n",
       "    </tr>\n",
       "    <tr>\n",
       "      <th>124</th>\n",
       "      <td>subj405</td>\n",
       "      <td>epi_norm_rpt</td>\n",
       "      <td>bad</td>\n",
       "      <td>RestingState</td>\n",
       "    </tr>\n",
       "    <tr>\n",
       "      <th>128</th>\n",
       "      <td>subj406</td>\n",
       "      <td>epi_norm_rpt</td>\n",
       "      <td>bad</td>\n",
       "      <td>RestingState</td>\n",
       "    </tr>\n",
       "    <tr>\n",
       "      <th>136</th>\n",
       "      <td>subj408</td>\n",
       "      <td>bold_conf</td>\n",
       "      <td>bad</td>\n",
       "      <td>RestingState</td>\n",
       "    </tr>\n",
       "    <tr>\n",
       "      <th>135</th>\n",
       "      <td>subj408</td>\n",
       "      <td>tsnr_rpt</td>\n",
       "      <td>bad</td>\n",
       "      <td>RestingState</td>\n",
       "    </tr>\n",
       "    <tr>\n",
       "      <th>137</th>\n",
       "      <td>subj409</td>\n",
       "      <td>epi_norm_rpt</td>\n",
       "      <td>bad</td>\n",
       "      <td>RestingState</td>\n",
       "    </tr>\n",
       "    <tr>\n",
       "      <th>140</th>\n",
       "      <td>subj411</td>\n",
       "      <td>epi_norm_rpt</td>\n",
       "      <td>bad</td>\n",
       "      <td>RestingState</td>\n",
       "    </tr>\n",
       "    <tr>\n",
       "      <th>146</th>\n",
       "      <td>subj413</td>\n",
       "      <td>epi_norm_rpt</td>\n",
       "      <td>bad</td>\n",
       "      <td>RestingState</td>\n",
       "    </tr>\n",
       "    <tr>\n",
       "      <th>149</th>\n",
       "      <td>subj414</td>\n",
       "      <td>epi_norm_rpt</td>\n",
       "      <td>bad</td>\n",
       "      <td>RestingState</td>\n",
       "    </tr>\n",
       "    <tr>\n",
       "      <th>152</th>\n",
       "      <td>subj415</td>\n",
       "      <td>epi_norm_rpt</td>\n",
       "      <td>bad</td>\n",
       "      <td>RestingState</td>\n",
       "    </tr>\n",
       "    <tr>\n",
       "      <th>153</th>\n",
       "      <td>subj415</td>\n",
       "      <td>tsnr_rpt</td>\n",
       "      <td>bad</td>\n",
       "      <td>RestingState</td>\n",
       "    </tr>\n",
       "    <tr>\n",
       "      <th>159</th>\n",
       "      <td>subj417</td>\n",
       "      <td>tsnr_rpt</td>\n",
       "      <td>bad</td>\n",
       "      <td>RestingState</td>\n",
       "    </tr>\n",
       "    <tr>\n",
       "      <th>164</th>\n",
       "      <td>subj501</td>\n",
       "      <td>epi_norm_rpt</td>\n",
       "      <td>bad</td>\n",
       "      <td>RestingState</td>\n",
       "    </tr>\n",
       "    <tr>\n",
       "      <th>171</th>\n",
       "      <td>subj503</td>\n",
       "      <td>epi_norm_rpt</td>\n",
       "      <td>bad</td>\n",
       "      <td>RestingState</td>\n",
       "    </tr>\n",
       "    <tr>\n",
       "      <th>180</th>\n",
       "      <td>subj509</td>\n",
       "      <td>epi_norm_rpt</td>\n",
       "      <td>bad</td>\n",
       "      <td>RestingState</td>\n",
       "    </tr>\n",
       "    <tr>\n",
       "      <th>189</th>\n",
       "      <td>subj512</td>\n",
       "      <td>epi_norm_rpt</td>\n",
       "      <td>bad</td>\n",
       "      <td>RestingState</td>\n",
       "    </tr>\n",
       "    <tr>\n",
       "      <th>193</th>\n",
       "      <td>subj513</td>\n",
       "      <td>tsnr_rpt</td>\n",
       "      <td>bad</td>\n",
       "      <td>RestingState</td>\n",
       "    </tr>\n",
       "    <tr>\n",
       "      <th>192</th>\n",
       "      <td>subj513</td>\n",
       "      <td>epi_norm_rpt</td>\n",
       "      <td>bad</td>\n",
       "      <td>RestingState</td>\n",
       "    </tr>\n",
       "    <tr>\n",
       "      <th>196</th>\n",
       "      <td>subj514</td>\n",
       "      <td>tsnr_rpt</td>\n",
       "      <td>bad</td>\n",
       "      <td>RestingState</td>\n",
       "    </tr>\n",
       "    <tr>\n",
       "      <th>204</th>\n",
       "      <td>subj519</td>\n",
       "      <td>epi_norm_rpt</td>\n",
       "      <td>bad</td>\n",
       "      <td>RestingState</td>\n",
       "    </tr>\n",
       "    <tr>\n",
       "      <th>211</th>\n",
       "      <td>subj522</td>\n",
       "      <td>tsnr_rpt</td>\n",
       "      <td>bad</td>\n",
       "      <td>RestingState</td>\n",
       "    </tr>\n",
       "    <tr>\n",
       "      <th>210</th>\n",
       "      <td>subj522</td>\n",
       "      <td>epi_norm_rpt</td>\n",
       "      <td>bad</td>\n",
       "      <td>RestingState</td>\n",
       "    </tr>\n",
       "    <tr>\n",
       "      <th>214</th>\n",
       "      <td>subj523</td>\n",
       "      <td>tsnr_rpt</td>\n",
       "      <td>bad</td>\n",
       "      <td>RestingState</td>\n",
       "    </tr>\n",
       "  </tbody>\n",
       "</table>\n",
       "</div>"
      ],
      "text/plain": [
       "         sub          type rating          task\n",
       "320  subj126      tsnr_rpt    bad  RestingState\n",
       "329  subj141      tsnr_rpt    bad  RestingState\n",
       "331  subj142  epi_norm_rpt    bad  RestingState\n",
       "340  subj146  epi_norm_rpt    bad  RestingState\n",
       "348  subj150      tsnr_rpt    bad  RestingState\n",
       "354  subj153      tsnr_rpt    bad  RestingState\n",
       "363  subj156      tsnr_rpt    bad  RestingState\n",
       "369  subj159      tsnr_rpt    bad  RestingState\n",
       "375  subj202  epi_norm_rpt    bad  RestingState\n",
       "384  subj205  epi_norm_rpt    bad  RestingState\n",
       "387  subj206  epi_norm_rpt    bad  RestingState\n",
       "396  subj211  epi_norm_rpt    bad  RestingState\n",
       "409  subj215      tsnr_rpt    bad  RestingState\n",
       "408  subj215  epi_norm_rpt    bad  RestingState\n",
       "411  subj216  epi_norm_rpt    bad  RestingState\n",
       "414  subj217  epi_norm_rpt    bad  RestingState\n",
       "423  subj221  epi_norm_rpt    bad  RestingState\n",
       "111  subj225  epi_norm_rpt    bad  RestingState\n",
       "117  subj403  epi_norm_rpt    bad  RestingState\n",
       "118  subj403      tsnr_rpt    bad  RestingState\n",
       "120  subj404  epi_norm_rpt    bad  RestingState\n",
       "124  subj405  epi_norm_rpt    bad  RestingState\n",
       "128  subj406  epi_norm_rpt    bad  RestingState\n",
       "136  subj408     bold_conf    bad  RestingState\n",
       "135  subj408      tsnr_rpt    bad  RestingState\n",
       "137  subj409  epi_norm_rpt    bad  RestingState\n",
       "140  subj411  epi_norm_rpt    bad  RestingState\n",
       "146  subj413  epi_norm_rpt    bad  RestingState\n",
       "149  subj414  epi_norm_rpt    bad  RestingState\n",
       "152  subj415  epi_norm_rpt    bad  RestingState\n",
       "153  subj415      tsnr_rpt    bad  RestingState\n",
       "159  subj417      tsnr_rpt    bad  RestingState\n",
       "164  subj501  epi_norm_rpt    bad  RestingState\n",
       "171  subj503  epi_norm_rpt    bad  RestingState\n",
       "180  subj509  epi_norm_rpt    bad  RestingState\n",
       "189  subj512  epi_norm_rpt    bad  RestingState\n",
       "193  subj513      tsnr_rpt    bad  RestingState\n",
       "192  subj513  epi_norm_rpt    bad  RestingState\n",
       "196  subj514      tsnr_rpt    bad  RestingState\n",
       "204  subj519  epi_norm_rpt    bad  RestingState\n",
       "211  subj522      tsnr_rpt    bad  RestingState\n",
       "210  subj522  epi_norm_rpt    bad  RestingState\n",
       "214  subj523      tsnr_rpt    bad  RestingState"
      ]
     },
     "execution_count": 22,
     "metadata": {},
     "output_type": "execute_result"
    }
   ],
   "source": [
    "bad_ratings = df[df[\"rating\"] == \"bad\"]\n",
    "bad_ratings_sorted = bad_ratings.sort_values(by=\"sub\")\n",
    "print(bad_ratings_sorted[\"sub\"].nunique())\n",
    "bad_ratings_sorted"
   ]
  },
  {
   "cell_type": "code",
   "execution_count": 23,
   "id": "dca50223-22c5-4b98-9a97-1ce33d273201",
   "metadata": {
    "tags": []
   },
   "outputs": [
    {
     "name": "stdout",
     "output_type": "stream",
     "text": [
      "type\n",
      "bold_conf        1\n",
      "epi_norm_rpt    27\n",
      "tsnr_rpt        15\n",
      "Name: sub, dtype: int64\n"
     ]
    }
   ],
   "source": [
    "# Count unique 'sub' values for each 'type'\n",
    "unique_sub_counts = bad_ratings.groupby('type')['sub'].nunique()\n",
    "\n",
    "# Display the result\n",
    "print(unique_sub_counts)"
   ]
  },
  {
   "cell_type": "markdown",
   "id": "87e1e864-d6e1-4569-a7d6-9c1d77030475",
   "metadata": {},
   "source": [
    "### None ratings"
   ]
  },
  {
   "cell_type": "code",
   "execution_count": 24,
   "id": "becaee1d-182d-4225-b38a-8ed760491d6d",
   "metadata": {
    "tags": []
   },
   "outputs": [
    {
     "data": {
      "text/html": [
       "<div>\n",
       "<style scoped>\n",
       "    .dataframe tbody tr th:only-of-type {\n",
       "        vertical-align: middle;\n",
       "    }\n",
       "\n",
       "    .dataframe tbody tr th {\n",
       "        vertical-align: top;\n",
       "    }\n",
       "\n",
       "    .dataframe thead th {\n",
       "        text-align: right;\n",
       "    }\n",
       "</style>\n",
       "<table border=\"1\" class=\"dataframe\">\n",
       "  <thead>\n",
       "    <tr style=\"text-align: right;\">\n",
       "      <th></th>\n",
       "      <th>sub</th>\n",
       "      <th>type</th>\n",
       "      <th>rating</th>\n",
       "      <th>task</th>\n",
       "    </tr>\n",
       "  </thead>\n",
       "  <tbody>\n",
       "  </tbody>\n",
       "</table>\n",
       "</div>"
      ],
      "text/plain": [
       "Empty DataFrame\n",
       "Columns: [sub, type, rating, task]\n",
       "Index: []"
      ]
     },
     "execution_count": 24,
     "metadata": {},
     "output_type": "execute_result"
    }
   ],
   "source": [
    "none_ratings = df[df[\"rating\"] == \"none\"]\n",
    "none_ratings_sorted = none_ratings.sort_values(by=\"sub\")\n",
    "#print(none_ratings_sorted[\"sub\"].nunique())\n",
    "none_ratings_sorted"
   ]
  },
  {
   "cell_type": "markdown",
   "id": "565e5069-c907-49d1-8c18-30c06610ab9c",
   "metadata": {},
   "source": [
    "### Get the list of subjects with bad ratings for QC.json file"
   ]
  },
  {
   "cell_type": "code",
   "execution_count": 25,
   "id": "a40fed77-90eb-43d8-8c54-71f54025edf0",
   "metadata": {
    "tags": []
   },
   "outputs": [
    {
     "data": {
      "text/plain": [
       "{'subj126',\n",
       " 'subj141',\n",
       " 'subj142',\n",
       " 'subj146',\n",
       " 'subj150',\n",
       " 'subj153',\n",
       " 'subj156',\n",
       " 'subj159',\n",
       " 'subj202',\n",
       " 'subj205',\n",
       " 'subj206',\n",
       " 'subj211',\n",
       " 'subj215',\n",
       " 'subj216',\n",
       " 'subj217',\n",
       " 'subj221',\n",
       " 'subj225',\n",
       " 'subj403',\n",
       " 'subj404',\n",
       " 'subj405',\n",
       " 'subj406',\n",
       " 'subj408',\n",
       " 'subj409',\n",
       " 'subj411',\n",
       " 'subj413',\n",
       " 'subj414',\n",
       " 'subj415',\n",
       " 'subj417',\n",
       " 'subj501',\n",
       " 'subj503',\n",
       " 'subj509',\n",
       " 'subj512',\n",
       " 'subj513',\n",
       " 'subj514',\n",
       " 'subj519',\n",
       " 'subj522',\n",
       " 'subj523'}"
      ]
     },
     "execution_count": 25,
     "metadata": {},
     "output_type": "execute_result"
    }
   ],
   "source": [
    "unformatted = set(bad_ratings_sorted[\"sub\"])\n",
    "unformatted"
   ]
  },
  {
   "cell_type": "markdown",
   "id": "6dc406c7-615e-420f-ac24-faf253144cb6",
   "metadata": {},
   "source": [
    "### Read the meta-data file"
   ]
  },
  {
   "cell_type": "code",
   "execution_count": 26,
   "id": "4b32b634-b942-40ab-a3c2-8de0bef849f4",
   "metadata": {},
   "outputs": [
    {
     "name": "stdout",
     "output_type": "stream",
     "text": [
      "          Sample Subject ID Formatted ID  Unique ID  OCD  Age of onset  \\\n",
      "0  Amsterdam_AMC        101      sub-101        NaN  2.0           NaN   \n",
      "1  Amsterdam_AMC        103      sub-103        NaN  2.0           NaN   \n",
      "2  Amsterdam_AMC        104      sub-104        NaN  2.0           NaN   \n",
      "3  Amsterdam_AMC        105      sub-105        NaN  2.0           NaN   \n",
      "4  Amsterdam_AMC        106      sub-106        NaN  2.0           NaN   \n",
      "\n",
      "   Medication  Y-BOCS   Age  Age range  ...  Education  Depression current  \\\n",
      "0         1.0     0.0  49.0        3.0  ...       15.0                 0.0   \n",
      "1         1.0     2.0  52.0        3.0  ...       15.0                 0.0   \n",
      "2         1.0     0.0  31.0        3.0  ...       18.0                 0.0   \n",
      "3         1.0     0.0  24.0        3.0  ...       17.0                 0.0   \n",
      "4         1.0     0.0  25.0        3.0  ...       18.0                 0.0   \n",
      "\n",
      "   Depression lifetime  Anxiety current  Anxiety lifetime Agr_Check  Clean  \\\n",
      "0                  0.0              0.0                 0       0.0    0.0   \n",
      "1                  0.0              0.0                 0       0.0    1.0   \n",
      "2                  0.0              0.0                 0       0.0    0.0   \n",
      "3                  0.0              0.0                 0       0.0    0.0   \n",
      "4                  0.0              0.0                 0       0.0    0.0   \n",
      "\n",
      "   Sex_Rel  Hoard  Ord  \n",
      "0      0.0    NaN  0.0  \n",
      "1      0.0    NaN  1.0  \n",
      "2      0.0    NaN  0.0  \n",
      "3      0.0    NaN  0.0  \n",
      "4      0.0    NaN  0.0  \n",
      "\n",
      "[5 rows x 21 columns]\n"
     ]
    }
   ],
   "source": [
    "import pandas as pd\n",
    "\n",
    "# Define the file path\n",
    "file_path = \"/global/homes/p/pakmasha/ENIGMA-OCD results/QC/Formatted meta-data.xlsx\"\n",
    "\n",
    "# Load the Excel file into a pandas DataFrame\n",
    "meta_data = pd.read_excel(file_path)\n",
    "\n",
    "# Display the first few rows to verify the data\n",
    "print(meta_data.head())"
   ]
  },
  {
   "cell_type": "markdown",
   "id": "84023f12-14b6-4396-9b0e-59d8302df2d9",
   "metadata": {},
   "source": [
    "### Convert subject IDs with bad ratings to the \"Formatted ID\""
   ]
  },
  {
   "cell_type": "code",
   "execution_count": 29,
   "id": "34cf9030-dbc2-4f3b-9687-1a1dfae99175",
   "metadata": {
    "tags": []
   },
   "outputs": [
    {
     "name": "stdout",
     "output_type": "stream",
     "text": [
      "Formatted IDs: ['sub-subj225', 'sub-subj403', 'sub-subj221', 'sub-subj514', 'sub-subj404', 'sub-subj126', 'sub-subj211', 'sub-subj146', 'sub-subj415', 'sub-subj522', 'sub-subj141', 'sub-subj503', 'sub-subj159', 'sub-subj417', 'sub-subj523', 'sub-subj215', 'sub-subj217', 'sub-subj405', 'sub-subj414', 'sub-subj512', 'sub-subj202', 'sub-subj411', 'sub-subj150', 'sub-subj406', 'sub-subj156', 'sub-subj501', 'sub-subj513', 'sub-subj142', 'sub-subj153', 'sub-subj509', 'sub-subj205', 'sub-subj408', 'sub-subj519', 'sub-subj409', 'sub-subj216', 'sub-subj413', 'sub-subj206']\n"
     ]
    }
   ],
   "source": [
    "# Define the specific value for the Sample column\n",
    "target_sample = \"Zurich_UCH\"  # Replace with the actual value\n",
    "\n",
    "# Filter the meta_data DataFrame to include only rows with the target Sample value\n",
    "filtered_meta_data = meta_data[meta_data['Sample'] == target_sample]\n",
    "\n",
    "# Initialize the formatted list\n",
    "formatted = []\n",
    "\n",
    "# Iterate through unformatted IDs and find matching Unique IDs in the filtered DataFrame\n",
    "for subject_id in unformatted:\n",
    "    # Check if the subject_id exists in the filtered_meta_data's \"Subject ID\" column\n",
    "    match = filtered_meta_data.loc[filtered_meta_data['Subject ID'] == subject_id, 'Formatted ID']\n",
    "    if not match.empty:\n",
    "        formatted.append(match.values[0])  # Add the matching Unique ID to the formatted list\n",
    "    else:\n",
    "        print(f\"subject {subject_id} is not matched\")\n",
    "\n",
    "# Print or use the formatted list\n",
    "print(\"Formatted IDs:\", formatted)"
   ]
  },
  {
   "cell_type": "code",
   "execution_count": null,
   "id": "4c652cb2-56b9-47a4-be44-d225bbd9e8dc",
   "metadata": {},
   "outputs": [],
   "source": []
  }
 ],
 "metadata": {
  "kernelspec": {
   "display_name": "Python (myenv)",
   "language": "python",
   "name": "myenv"
  },
  "language_info": {
   "codemirror_mode": {
    "name": "ipython",
    "version": 3
   },
   "file_extension": ".py",
   "mimetype": "text/x-python",
   "name": "python",
   "nbconvert_exporter": "python",
   "pygments_lexer": "ipython3",
   "version": "3.11.7"
  }
 },
 "nbformat": 4,
 "nbformat_minor": 5
}
