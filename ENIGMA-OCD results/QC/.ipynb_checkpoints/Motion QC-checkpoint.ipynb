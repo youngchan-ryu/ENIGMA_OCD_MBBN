{
 "cells": [
  {
   "cell_type": "code",
   "execution_count": 1,
   "id": "e92dcfea-2327-49a8-8781-ff8cea96dc63",
   "metadata": {
    "tags": []
   },
   "outputs": [],
   "source": [
    "import pandas as pd\n",
    "import numpy as np\n",
    "import os"
   ]
  },
  {
   "cell_type": "markdown",
   "id": "c9983a4b-d237-4e97-a0e2-7710cf67d7cc",
   "metadata": {},
   "source": [
    "### Exclude participants based on Motion QC criteria"
   ]
  },
  {
   "cell_type": "code",
   "execution_count": 3,
   "id": "196a5317-92b8-4e81-9226-3caf1cbaf4cb",
   "metadata": {
    "tags": []
   },
   "outputs": [
    {
     "name": "stdout",
     "output_type": "stream",
     "text": [
      "Participant sub-subAOCD016_confounds.tsv: Excluded = False\n",
      "Participant sub-subAOCD002_confounds.tsv: Excluded = False\n",
      "Participant sub-subAOCD009_confounds.tsv: Excluded = False\n",
      "Participant sub-subAOCD017_confounds.tsv: Excluded = False\n",
      "Participant sub-subAOCD013_confounds.tsv: Excluded = True\n",
      "exclude_motion: False ( 0.593259 0.9571431854998941 )\n",
      "exclude_fd: False ( 0.29214418537430165 )\n",
      "exclude_volumes: True ( 87 )\n",
      "Participant sub-subAHC038_confounds.tsv: Excluded = False\n",
      "Participant sub-subAOCD005_confounds.tsv: Excluded = True\n",
      "exclude_motion: False ( 1.17013 2.109687897451204 )\n",
      "exclude_fd: True ( 0.5381576233240224 )\n",
      "exclude_volumes: True ( 43 )\n",
      "Participant sub-subAOCD015_confounds.tsv: Excluded = False\n",
      "Participant sub-subAOCD007_confounds.tsv: Excluded = False\n",
      "Participant sub-subAHC032_confounds.tsv: Excluded = False\n",
      "Participant sub-subAOCD006_confounds.tsv: Excluded = False\n",
      "Participant sub-subAOCD012_confounds.tsv: Excluded = True\n",
      "exclude_motion: False ( 0.583032 0.8138922775612857 )\n",
      "exclude_fd: True ( 0.32226375225698317 )\n",
      "exclude_volumes: True ( 95 )\n",
      "Participant sub-subAHC001_confounds.tsv: Excluded = False\n",
      "Participant sub-subAHC024_confounds.tsv: Excluded = False\n",
      "Excluded participants: ['sub-subAOCD013_confounds.tsv', 'sub-subAOCD005_confounds.tsv', 'sub-subAOCD012_confounds.tsv']\n",
      "3\n"
     ]
    }
   ],
   "source": [
    "# Define the folder containing the confounds files\n",
    "folder_path = \"/pscratch/sd/p/pakmasha/ENIGMA_unzip/Rome_SLF/confounds\"\n",
    "\n",
    "# Initialize an empty list to store excluded participants\n",
    "excluded = []\n",
    "\n",
    "# Loop over all TSV files in the folder\n",
    "for file_name in os.listdir(folder_path):\n",
    "    if file_name.endswith(\"_confounds.tsv\"):  # Process only confounds files\n",
    "    # if file_name.endswith(\"confounds_timeseries.tsv\"):  # for Vancouver_BCCHR\n",
    "        \n",
    "        file_path = os.path.join(folder_path, file_name)\n",
    "        \n",
    "        # Read the confounds file\n",
    "        df = pd.read_csv(file_path, sep=\"\\t\")\n",
    "        \n",
    "        # Apply exclusion criteria\n",
    "        max_translation = df[[\"trans_x\", \"trans_y\", \"trans_z\"]].abs().max().max()\n",
    "        max_rotation = df[[\"rot_x\", \"rot_y\", \"rot_z\"]].abs().max().max() * (180 / np.pi)  # Convert to degrees\n",
    "        exclude_motion = max_translation > 4 or max_rotation > 4\n",
    "\n",
    "        average_fd = df[\"framewise_displacement\"].mean()\n",
    "        exclude_fd = average_fd > 0.3\n",
    "\n",
    "        motion_unaffected = (df[\"framewise_displacement\"] < 0.25).sum()\n",
    "        exclude_volumes = motion_unaffected < 100\n",
    "\n",
    "        exclude_participant = exclude_motion or exclude_fd or exclude_volumes\n",
    "\n",
    "        # Print results for the current participant\n",
    "        print(f\"Participant {file_name}: Excluded = {exclude_participant}\")\n",
    "        \n",
    "        # Extract subject name from the file_name\n",
    "        subject_name = file_name.split(\"_confounds_timeseries.tsv\")[0]\n",
    "        # subject_name = file_name.split(\"_\")[0] # for Vancouver_BCCHR\n",
    "        \n",
    "        # If the participant is excluded, add their name to the list\n",
    "        if exclude_participant:\n",
    "            excluded.append(subject_name)\n",
    "            print(\"exclude_motion:\", exclude_motion, \"(\", max_translation, max_rotation, \")\")\n",
    "            print(\"exclude_fd:\", exclude_fd, \"(\", average_fd, \")\")\n",
    "            print(\"exclude_volumes:\", exclude_volumes, \"(\", motion_unaffected, \")\")\n",
    "            \n",
    "# Print the excluded participants\n",
    "print(\"Excluded participants:\", excluded)        \n",
    "print(len(excluded))\n",
    "            "
   ]
  },
  {
   "cell_type": "markdown",
   "id": "eceb0e92-54eb-4cc3-aa64-a40cb663b681",
   "metadata": {},
   "source": [
    "### Format subject IDs if needed"
   ]
  },
  {
   "cell_type": "code",
   "execution_count": 4,
   "id": "9fecc591-f2bf-435b-a037-223c81dc3798",
   "metadata": {
    "tags": []
   },
   "outputs": [
    {
     "name": "stdout",
     "output_type": "stream",
     "text": [
      "Formatted IDs: ['sub-sub-subAOCD013_confounds.tsv', 'sub-sub-subAOCD005_confounds.tsv', 'sub-sub-subAOCD012_confounds.tsv']\n"
     ]
    }
   ],
   "source": [
    "formatted = []\n",
    "\n",
    "for subject_id in excluded:\n",
    "    add = \"sub-\" + subject_id\n",
    "    formatted.append(add)\n",
    "    \n",
    "print(f\"Formatted IDs: {formatted}\")"
   ]
  }
 ],
 "metadata": {
  "kernelspec": {
   "display_name": "Python (myenv)",
   "language": "python",
   "name": "myenv"
  },
  "language_info": {
   "codemirror_mode": {
    "name": "ipython",
    "version": 3
   },
   "file_extension": ".py",
   "mimetype": "text/x-python",
   "name": "python",
   "nbconvert_exporter": "python",
   "pygments_lexer": "ipython3",
   "version": "3.11.7"
  }
 },
 "nbformat": 4,
 "nbformat_minor": 5
}
