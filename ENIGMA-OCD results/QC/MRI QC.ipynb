{
 "cells": [
  {
   "cell_type": "markdown",
   "id": "86da5a21-e9fb-4f9e-963b-2cc1c21fa1df",
   "metadata": {},
   "source": [
    "### Read exclude.json file"
   ]
  },
  {
   "cell_type": "code",
   "execution_count": 31,
   "id": "f9029680-2b3b-4f45-89d1-093c02a00e79",
   "metadata": {
    "tags": []
   },
   "outputs": [],
   "source": [
    "import pandas as pd\n",
    "import json\n",
    "\n",
    "# Load the JSON file into a DataFrame\n",
    "with open(\"/pscratch/sd/p/pakmasha/ENIGMA_unzip/Rome_SLF/exclude.json\", \"r\") as file:\n",
    "    data = json.load(file)\n",
    "\n",
    "df = pd.DataFrame(data)"
   ]
  },
  {
   "cell_type": "code",
   "execution_count": 32,
   "id": "dad9b366-2482-4010-8d1b-472e7e0e477a",
   "metadata": {
    "tags": []
   },
   "outputs": [
    {
     "data": {
      "text/html": [
       "<div>\n",
       "<style scoped>\n",
       "    .dataframe tbody tr th:only-of-type {\n",
       "        vertical-align: middle;\n",
       "    }\n",
       "\n",
       "    .dataframe tbody tr th {\n",
       "        vertical-align: top;\n",
       "    }\n",
       "\n",
       "    .dataframe thead th {\n",
       "        text-align: right;\n",
       "    }\n",
       "</style>\n",
       "<table border=\"1\" class=\"dataframe\">\n",
       "  <thead>\n",
       "    <tr style=\"text-align: right;\">\n",
       "      <th></th>\n",
       "      <th>sub</th>\n",
       "      <th>type</th>\n",
       "      <th>rating</th>\n",
       "      <th>task</th>\n",
       "    </tr>\n",
       "  </thead>\n",
       "  <tbody>\n",
       "    <tr>\n",
       "      <th>0</th>\n",
       "      <td>sub-AOCD001</td>\n",
       "      <td>skull_strip_report</td>\n",
       "      <td>good</td>\n",
       "      <td>NaN</td>\n",
       "    </tr>\n",
       "    <tr>\n",
       "      <th>1</th>\n",
       "      <td>sub-AOCD001</td>\n",
       "      <td>t1_norm_rpt</td>\n",
       "      <td>good</td>\n",
       "      <td>NaN</td>\n",
       "    </tr>\n",
       "    <tr>\n",
       "      <th>2</th>\n",
       "      <td>sub-AOCD002</td>\n",
       "      <td>skull_strip_report</td>\n",
       "      <td>good</td>\n",
       "      <td>NaN</td>\n",
       "    </tr>\n",
       "    <tr>\n",
       "      <th>3</th>\n",
       "      <td>sub-AOCD002</td>\n",
       "      <td>t1_norm_rpt</td>\n",
       "      <td>good</td>\n",
       "      <td>NaN</td>\n",
       "    </tr>\n",
       "    <tr>\n",
       "      <th>4</th>\n",
       "      <td>sub-AOCD003</td>\n",
       "      <td>skull_strip_report</td>\n",
       "      <td>uncertain</td>\n",
       "      <td>NaN</td>\n",
       "    </tr>\n",
       "  </tbody>\n",
       "</table>\n",
       "</div>"
      ],
      "text/plain": [
       "           sub                type     rating task\n",
       "0  sub-AOCD001  skull_strip_report       good  NaN\n",
       "1  sub-AOCD001         t1_norm_rpt       good  NaN\n",
       "2  sub-AOCD002  skull_strip_report       good  NaN\n",
       "3  sub-AOCD002         t1_norm_rpt       good  NaN\n",
       "4  sub-AOCD003  skull_strip_report  uncertain  NaN"
      ]
     },
     "execution_count": 32,
     "metadata": {},
     "output_type": "execute_result"
    }
   ],
   "source": [
    "df.head()"
   ]
  },
  {
   "cell_type": "code",
   "execution_count": 33,
   "id": "4462e9e8-eb84-48aa-bc2d-c3f002a695e0",
   "metadata": {
    "tags": []
   },
   "outputs": [
    {
     "data": {
      "text/plain": [
       "17"
      ]
     },
     "execution_count": 33,
     "metadata": {},
     "output_type": "execute_result"
    }
   ],
   "source": [
    "df[\"sub\"].nunique()"
   ]
  },
  {
   "cell_type": "code",
   "execution_count": 34,
   "id": "702c40b5-e0b6-4475-bd27-04653353ac44",
   "metadata": {
    "tags": []
   },
   "outputs": [
    {
     "data": {
      "text/plain": [
       "rating\n",
       "good         78\n",
       "uncertain    12\n",
       "bad          12\n",
       "Name: count, dtype: int64"
      ]
     },
     "execution_count": 34,
     "metadata": {},
     "output_type": "execute_result"
    }
   ],
   "source": [
    "df[\"rating\"].value_counts()"
   ]
  },
  {
   "cell_type": "markdown",
   "id": "fea2395f-7d8d-4ab1-8a46-4f86aafc201e",
   "metadata": {},
   "source": [
    "### Uncertain ratings"
   ]
  },
  {
   "cell_type": "code",
   "execution_count": 35,
   "id": "53c89644-fff8-4099-8c3a-9c6e5aa3620d",
   "metadata": {
    "tags": []
   },
   "outputs": [
    {
     "name": "stdout",
     "output_type": "stream",
     "text": [
      "8\n"
     ]
    }
   ],
   "source": [
    "uncertain_ratings = df[df[\"rating\"] == \"uncertain\"]\n",
    "uncertain_ratings_sorted = uncertain_ratings.sort_values(by=\"sub\")\n",
    "print(uncertain_ratings_sorted[\"sub\"].nunique())\n",
    "#uncertain_ratings_sorted"
   ]
  },
  {
   "cell_type": "code",
   "execution_count": 36,
   "id": "d09c852c-33d0-437a-87fb-2f8ca981008d",
   "metadata": {
    "tags": []
   },
   "outputs": [
    {
     "name": "stdout",
     "output_type": "stream",
     "text": [
      "type\n",
      "bold_conf             2\n",
      "ica_aroma             5\n",
      "skull_strip_report    1\n",
      "tsnr_rpt              4\n",
      "Name: sub, dtype: int64\n"
     ]
    }
   ],
   "source": [
    "# Count unique 'sub' values for each 'type'\n",
    "unique_sub_counts = uncertain_ratings.groupby('type')['sub'].nunique()\n",
    "\n",
    "# Display the result\n",
    "print(unique_sub_counts)"
   ]
  },
  {
   "cell_type": "code",
   "execution_count": 37,
   "id": "7312b353-68d3-4c2b-a384-99f72938a1ae",
   "metadata": {
    "tags": []
   },
   "outputs": [],
   "source": [
    "#uncertain_ratings_sorted[150:]"
   ]
  },
  {
   "cell_type": "markdown",
   "id": "dccd5e16-6a25-40b8-9443-25927f80a202",
   "metadata": {},
   "source": [
    "### Bad ratings"
   ]
  },
  {
   "cell_type": "code",
   "execution_count": 38,
   "id": "616da19e-12b0-4598-8bb6-bc52012ef480",
   "metadata": {
    "tags": []
   },
   "outputs": [
    {
     "name": "stdout",
     "output_type": "stream",
     "text": [
      "4\n"
     ]
    },
    {
     "data": {
      "text/html": [
       "<div>\n",
       "<style scoped>\n",
       "    .dataframe tbody tr th:only-of-type {\n",
       "        vertical-align: middle;\n",
       "    }\n",
       "\n",
       "    .dataframe tbody tr th {\n",
       "        vertical-align: top;\n",
       "    }\n",
       "\n",
       "    .dataframe thead th {\n",
       "        text-align: right;\n",
       "    }\n",
       "</style>\n",
       "<table border=\"1\" class=\"dataframe\">\n",
       "  <thead>\n",
       "    <tr style=\"text-align: right;\">\n",
       "      <th></th>\n",
       "      <th>sub</th>\n",
       "      <th>type</th>\n",
       "      <th>rating</th>\n",
       "      <th>task</th>\n",
       "    </tr>\n",
       "  </thead>\n",
       "  <tbody>\n",
       "    <tr>\n",
       "      <th>8</th>\n",
       "      <td>sub-AOCD001</td>\n",
       "      <td>ica_aroma</td>\n",
       "      <td>bad</td>\n",
       "      <td>rest</td>\n",
       "    </tr>\n",
       "    <tr>\n",
       "      <th>36</th>\n",
       "      <td>sub-AOCD001</td>\n",
       "      <td>epi_norm_rpt</td>\n",
       "      <td>bad</td>\n",
       "      <td>rest</td>\n",
       "    </tr>\n",
       "    <tr>\n",
       "      <th>37</th>\n",
       "      <td>sub-AOCD001</td>\n",
       "      <td>tsnr_rpt</td>\n",
       "      <td>bad</td>\n",
       "      <td>rest</td>\n",
       "    </tr>\n",
       "    <tr>\n",
       "      <th>38</th>\n",
       "      <td>sub-AOCD001</td>\n",
       "      <td>bold_conf</td>\n",
       "      <td>bad</td>\n",
       "      <td>rest</td>\n",
       "    </tr>\n",
       "    <tr>\n",
       "      <th>14</th>\n",
       "      <td>sub-AOCD003</td>\n",
       "      <td>ica_aroma</td>\n",
       "      <td>bad</td>\n",
       "      <td>rest</td>\n",
       "    </tr>\n",
       "    <tr>\n",
       "      <th>43</th>\n",
       "      <td>sub-AOCD003</td>\n",
       "      <td>tsnr_rpt</td>\n",
       "      <td>bad</td>\n",
       "      <td>rest</td>\n",
       "    </tr>\n",
       "    <tr>\n",
       "      <th>44</th>\n",
       "      <td>sub-AOCD003</td>\n",
       "      <td>bold_conf</td>\n",
       "      <td>bad</td>\n",
       "      <td>rest</td>\n",
       "    </tr>\n",
       "    <tr>\n",
       "      <th>26</th>\n",
       "      <td>sub-AOCD008</td>\n",
       "      <td>ica_aroma</td>\n",
       "      <td>bad</td>\n",
       "      <td>rest</td>\n",
       "    </tr>\n",
       "    <tr>\n",
       "      <th>55</th>\n",
       "      <td>sub-AOCD008</td>\n",
       "      <td>epi_norm_rpt</td>\n",
       "      <td>bad</td>\n",
       "      <td>rest</td>\n",
       "    </tr>\n",
       "    <tr>\n",
       "      <th>56</th>\n",
       "      <td>sub-AOCD008</td>\n",
       "      <td>tsnr_rpt</td>\n",
       "      <td>bad</td>\n",
       "      <td>rest</td>\n",
       "    </tr>\n",
       "    <tr>\n",
       "      <th>57</th>\n",
       "      <td>sub-AOCD008</td>\n",
       "      <td>bold_conf</td>\n",
       "      <td>bad</td>\n",
       "      <td>rest</td>\n",
       "    </tr>\n",
       "    <tr>\n",
       "      <th>59</th>\n",
       "      <td>sub-AOCD009</td>\n",
       "      <td>tsnr_rpt</td>\n",
       "      <td>bad</td>\n",
       "      <td>rest</td>\n",
       "    </tr>\n",
       "  </tbody>\n",
       "</table>\n",
       "</div>"
      ],
      "text/plain": [
       "            sub          type rating  task\n",
       "8   sub-AOCD001     ica_aroma    bad  rest\n",
       "36  sub-AOCD001  epi_norm_rpt    bad  rest\n",
       "37  sub-AOCD001      tsnr_rpt    bad  rest\n",
       "38  sub-AOCD001     bold_conf    bad  rest\n",
       "14  sub-AOCD003     ica_aroma    bad  rest\n",
       "43  sub-AOCD003      tsnr_rpt    bad  rest\n",
       "44  sub-AOCD003     bold_conf    bad  rest\n",
       "26  sub-AOCD008     ica_aroma    bad  rest\n",
       "55  sub-AOCD008  epi_norm_rpt    bad  rest\n",
       "56  sub-AOCD008      tsnr_rpt    bad  rest\n",
       "57  sub-AOCD008     bold_conf    bad  rest\n",
       "59  sub-AOCD009      tsnr_rpt    bad  rest"
      ]
     },
     "execution_count": 38,
     "metadata": {},
     "output_type": "execute_result"
    }
   ],
   "source": [
    "bad_ratings = df[df[\"rating\"] == \"bad\"]\n",
    "bad_ratings_sorted = bad_ratings.sort_values(by=\"sub\")\n",
    "print(bad_ratings_sorted[\"sub\"].nunique())\n",
    "bad_ratings_sorted"
   ]
  },
  {
   "cell_type": "code",
   "execution_count": 39,
   "id": "dca50223-22c5-4b98-9a97-1ce33d273201",
   "metadata": {
    "tags": []
   },
   "outputs": [
    {
     "name": "stdout",
     "output_type": "stream",
     "text": [
      "type\n",
      "bold_conf       3\n",
      "epi_norm_rpt    2\n",
      "ica_aroma       3\n",
      "tsnr_rpt        4\n",
      "Name: sub, dtype: int64\n"
     ]
    }
   ],
   "source": [
    "# Count unique 'sub' values for each 'type'\n",
    "unique_sub_counts = bad_ratings.groupby('type')['sub'].nunique()\n",
    "\n",
    "# Display the result\n",
    "print(unique_sub_counts)"
   ]
  },
  {
   "cell_type": "markdown",
   "id": "87e1e864-d6e1-4569-a7d6-9c1d77030475",
   "metadata": {},
   "source": [
    "### None ratings"
   ]
  },
  {
   "cell_type": "code",
   "execution_count": 40,
   "id": "becaee1d-182d-4225-b38a-8ed760491d6d",
   "metadata": {
    "tags": []
   },
   "outputs": [
    {
     "data": {
      "text/html": [
       "<div>\n",
       "<style scoped>\n",
       "    .dataframe tbody tr th:only-of-type {\n",
       "        vertical-align: middle;\n",
       "    }\n",
       "\n",
       "    .dataframe tbody tr th {\n",
       "        vertical-align: top;\n",
       "    }\n",
       "\n",
       "    .dataframe thead th {\n",
       "        text-align: right;\n",
       "    }\n",
       "</style>\n",
       "<table border=\"1\" class=\"dataframe\">\n",
       "  <thead>\n",
       "    <tr style=\"text-align: right;\">\n",
       "      <th></th>\n",
       "      <th>sub</th>\n",
       "      <th>type</th>\n",
       "      <th>rating</th>\n",
       "      <th>task</th>\n",
       "    </tr>\n",
       "  </thead>\n",
       "  <tbody>\n",
       "  </tbody>\n",
       "</table>\n",
       "</div>"
      ],
      "text/plain": [
       "Empty DataFrame\n",
       "Columns: [sub, type, rating, task]\n",
       "Index: []"
      ]
     },
     "execution_count": 40,
     "metadata": {},
     "output_type": "execute_result"
    }
   ],
   "source": [
    "none_ratings = df[df[\"rating\"] == \"none\"]\n",
    "none_ratings_sorted = none_ratings.sort_values(by=\"sub\")\n",
    "#print(none_ratings_sorted[\"sub\"].nunique())\n",
    "none_ratings_sorted"
   ]
  },
  {
   "cell_type": "markdown",
   "id": "565e5069-c907-49d1-8c18-30c06610ab9c",
   "metadata": {},
   "source": [
    "### Get the list of subjects with bad ratings for QC.json file"
   ]
  },
  {
   "cell_type": "code",
   "execution_count": 41,
   "id": "a40fed77-90eb-43d8-8c54-71f54025edf0",
   "metadata": {
    "tags": []
   },
   "outputs": [
    {
     "data": {
      "text/plain": [
       "{'sub-AOCD001', 'sub-AOCD003', 'sub-AOCD008', 'sub-AOCD009'}"
      ]
     },
     "execution_count": 41,
     "metadata": {},
     "output_type": "execute_result"
    }
   ],
   "source": [
    "unformatted = set(bad_ratings_sorted[\"sub\"])\n",
    "unformatted"
   ]
  },
  {
   "cell_type": "markdown",
   "id": "6dc406c7-615e-420f-ac24-faf253144cb6",
   "metadata": {},
   "source": [
    "### Read the meta-data file"
   ]
  },
  {
   "cell_type": "code",
   "execution_count": 42,
   "id": "4b32b634-b942-40ab-a3c2-8de0bef849f4",
   "metadata": {},
   "outputs": [
    {
     "name": "stdout",
     "output_type": "stream",
     "text": [
      "          Sample Subject ID Formatted ID  Unique ID  OCD  Age of onset  \\\n",
      "0  Amsterdam_AMC        101      sub-101        NaN  2.0           NaN   \n",
      "1  Amsterdam_AMC        103      sub-103        NaN  2.0           NaN   \n",
      "2  Amsterdam_AMC        104      sub-104        NaN  2.0           NaN   \n",
      "3  Amsterdam_AMC        105      sub-105        NaN  2.0           NaN   \n",
      "4  Amsterdam_AMC        106      sub-106        NaN  2.0           NaN   \n",
      "\n",
      "   Medication  Y-BOCS   Age  Age range  ...  Education  Depression current  \\\n",
      "0         1.0     0.0  49.0        3.0  ...       15.0                 0.0   \n",
      "1         1.0     2.0  52.0        3.0  ...       15.0                 0.0   \n",
      "2         1.0     0.0  31.0        3.0  ...       18.0                 0.0   \n",
      "3         1.0     0.0  24.0        3.0  ...       17.0                 0.0   \n",
      "4         1.0     0.0  25.0        3.0  ...       18.0                 0.0   \n",
      "\n",
      "   Depression lifetime  Anxiety current  Anxiety lifetime Agr_Check  Clean  \\\n",
      "0                  0.0              0.0                 0       0.0    0.0   \n",
      "1                  0.0              0.0                 0       0.0    1.0   \n",
      "2                  0.0              0.0                 0       0.0    0.0   \n",
      "3                  0.0              0.0                 0       0.0    0.0   \n",
      "4                  0.0              0.0                 0       0.0    0.0   \n",
      "\n",
      "   Sex_Rel  Hoard  Ord  \n",
      "0      0.0    NaN  0.0  \n",
      "1      0.0    NaN  1.0  \n",
      "2      0.0    NaN  0.0  \n",
      "3      0.0    NaN  0.0  \n",
      "4      0.0    NaN  0.0  \n",
      "\n",
      "[5 rows x 21 columns]\n"
     ]
    }
   ],
   "source": [
    "import pandas as pd\n",
    "\n",
    "# Define the file path\n",
    "file_path = \"/global/homes/p/pakmasha/ENIGMA-OCD results/QC/Formatted meta-data.xlsx\"\n",
    "\n",
    "# Load the Excel file into a pandas DataFrame\n",
    "meta_data = pd.read_excel(file_path)\n",
    "\n",
    "# Display the first few rows to verify the data\n",
    "print(meta_data.head())"
   ]
  },
  {
   "cell_type": "markdown",
   "id": "84023f12-14b6-4396-9b0e-59d8302df2d9",
   "metadata": {},
   "source": [
    "### Convert subject IDs with bad ratings to the \"Formatted ID\""
   ]
  },
  {
   "cell_type": "code",
   "execution_count": 43,
   "id": "34cf9030-dbc2-4f3b-9687-1a1dfae99175",
   "metadata": {
    "tags": []
   },
   "outputs": [
    {
     "name": "stdout",
     "output_type": "stream",
     "text": [
      "subject sub-AOCD008 is not matched\n",
      "subject sub-AOCD001 is not matched\n",
      "subject sub-AOCD003 is not matched\n",
      "Formatted IDs: ['sub-subAOCD009']\n"
     ]
    }
   ],
   "source": [
    "# Define the specific value for the Sample column\n",
    "target_sample = \"Rome_SLF\"  # Replace with the actual value\n",
    "\n",
    "# Filter the meta_data DataFrame to include only rows with the target Sample value\n",
    "filtered_meta_data = meta_data[meta_data['Sample'] == target_sample]\n",
    "\n",
    "# Initialize the formatted list\n",
    "formatted = []\n",
    "\n",
    "# Iterate through unformatted IDs and find matching Unique IDs in the filtered DataFrame\n",
    "for subject_id in unformatted:\n",
    "    # Check if the subject_id exists in the filtered_meta_data's \"Subject ID\" column\n",
    "    match = filtered_meta_data.loc[filtered_meta_data['Subject ID'] == subject_id, 'Formatted ID']\n",
    "    if not match.empty:\n",
    "        formatted.append(match.values[0])  # Add the matching Unique ID to the formatted list\n",
    "    else:\n",
    "        print(f\"subject {subject_id} is not matched\")\n",
    "\n",
    "# Print or use the formatted list\n",
    "print(\"Formatted IDs:\", formatted)"
   ]
  },
  {
   "cell_type": "code",
   "execution_count": null,
   "id": "4c652cb2-56b9-47a4-be44-d225bbd9e8dc",
   "metadata": {},
   "outputs": [],
   "source": []
  }
 ],
 "metadata": {
  "kernelspec": {
   "display_name": "Python (myenv)",
   "language": "python",
   "name": "myenv"
  },
  "language_info": {
   "codemirror_mode": {
    "name": "ipython",
    "version": 3
   },
   "file_extension": ".py",
   "mimetype": "text/x-python",
   "name": "python",
   "nbconvert_exporter": "python",
   "pygments_lexer": "ipython3",
   "version": "3.11.7"
  }
 },
 "nbformat": 4,
 "nbformat_minor": 5
}
