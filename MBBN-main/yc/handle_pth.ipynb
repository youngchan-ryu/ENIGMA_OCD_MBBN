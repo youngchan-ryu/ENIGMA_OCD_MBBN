{
 "cells": [
  {
   "cell_type": "code",
   "execution_count": 9,
   "metadata": {},
   "outputs": [
    {
     "name": "stdout",
     "output_type": "stream",
     "text": [
      "In /pscratch/sd/y/ycryu/ENIGMA_OCD_MBBN/MBBN-main/experiments/ENIGMA_OCD_mbbn_OCD_train_16_model_seed_101_ensemble_4gpu/model_4: keeping ENIGMA_OCD_mbbn_OCD_train_16_model_seed_101_ensemble_4gpu_epoch_36_BEST_val_ACC.pth\n",
      "In /pscratch/sd/y/ycryu/ENIGMA_OCD_MBBN/MBBN-main/experiments/ENIGMA_OCD_mbbn_OCD_train_16_model_seed_101_ensemble_4gpu/model_8: keeping ENIGMA_OCD_mbbn_OCD_train_16_model_seed_101_ensemble_4gpu_epoch_27_BEST_val_ACC.pth\n",
      "In /pscratch/sd/y/ycryu/ENIGMA_OCD_MBBN/MBBN-main/experiments/ENIGMA_OCD_mbbn_OCD_train_16_model_seed_101_ensemble_4gpu/model_6: keeping ENIGMA_OCD_mbbn_OCD_train_16_model_seed_101_ensemble_4gpu_epoch_51_BEST_val_AUROC.pth\n",
      "In /pscratch/sd/y/ycryu/ENIGMA_OCD_MBBN/MBBN-main/experiments/ENIGMA_OCD_mbbn_OCD_train_16_model_seed_101_ensemble_4gpu/model_1: keeping ENIGMA_OCD_mbbn_OCD_train_16_model_seed_101_ensemble_4gpu_epoch_44_BEST_val_ACC.pth\n",
      "In /pscratch/sd/y/ycryu/ENIGMA_OCD_MBBN/MBBN-main/experiments/ENIGMA_OCD_mbbn_OCD_train_16_model_seed_101_ensemble_4gpu/model_10: keeping ENIGMA_OCD_mbbn_OCD_train_16_model_seed_101_ensemble_4gpu_epoch_48_BEST_val_AUROC.pth\n",
      "In /pscratch/sd/y/ycryu/ENIGMA_OCD_MBBN/MBBN-main/experiments/ENIGMA_OCD_mbbn_OCD_train_16_model_seed_101_ensemble_4gpu/model_13: keeping ENIGMA_OCD_mbbn_OCD_train_16_model_seed_101_ensemble_4gpu_epoch_55_BEST_val_ACC.pth\n",
      "In /pscratch/sd/y/ycryu/ENIGMA_OCD_MBBN/MBBN-main/experiments/ENIGMA_OCD_mbbn_OCD_train_16_model_seed_101_ensemble_4gpu/model_14: keeping ENIGMA_OCD_mbbn_OCD_train_16_model_seed_101_ensemble_4gpu_epoch_60_BEST_val_ACC.pth\n",
      "In /pscratch/sd/y/ycryu/ENIGMA_OCD_MBBN/MBBN-main/experiments/ENIGMA_OCD_mbbn_OCD_train_16_model_seed_101_ensemble_4gpu/model_3: keeping ENIGMA_OCD_mbbn_OCD_train_16_model_seed_101_ensemble_4gpu_epoch_42_BEST_val_ACC.pth\n",
      "In /pscratch/sd/y/ycryu/ENIGMA_OCD_MBBN/MBBN-main/experiments/ENIGMA_OCD_mbbn_OCD_train_16_model_seed_101_ensemble_4gpu/model_5: keeping ENIGMA_OCD_mbbn_OCD_train_16_model_seed_101_ensemble_4gpu_epoch_39_BEST_val_ACC.pth\n",
      "In /pscratch/sd/y/ycryu/ENIGMA_OCD_MBBN/MBBN-main/experiments/ENIGMA_OCD_mbbn_OCD_train_16_model_seed_101_ensemble_4gpu/model_11: keeping ENIGMA_OCD_mbbn_OCD_train_16_model_seed_101_ensemble_4gpu_epoch_33_BEST_val_AUROC.pth\n",
      "In /pscratch/sd/y/ycryu/ENIGMA_OCD_MBBN/MBBN-main/experiments/ENIGMA_OCD_mbbn_OCD_train_16_model_seed_101_ensemble_4gpu/model_7: keeping ENIGMA_OCD_mbbn_OCD_train_16_model_seed_101_ensemble_4gpu_epoch_60_BEST_val_AUROC.pth\n",
      "In /pscratch/sd/y/ycryu/ENIGMA_OCD_MBBN/MBBN-main/experiments/ENIGMA_OCD_mbbn_OCD_train_16_model_seed_101_ensemble_4gpu/model_15: keeping ENIGMA_OCD_mbbn_OCD_train_16_model_seed_101_ensemble_4gpu_epoch_22_BEST_val_AUROC.pth\n",
      "In /pscratch/sd/y/ycryu/ENIGMA_OCD_MBBN/MBBN-main/experiments/ENIGMA_OCD_mbbn_OCD_train_16_model_seed_101_ensemble_4gpu/model_12: keeping ENIGMA_OCD_mbbn_OCD_train_16_model_seed_101_ensemble_4gpu_epoch_46_BEST_val_ACC.pth\n",
      "In /pscratch/sd/y/ycryu/ENIGMA_OCD_MBBN/MBBN-main/experiments/ENIGMA_OCD_mbbn_OCD_train_16_model_seed_101_ensemble_4gpu/model_2: keeping ENIGMA_OCD_mbbn_OCD_train_16_model_seed_101_ensemble_4gpu_epoch_38_BEST_val_ACC.pth\n",
      "In /pscratch/sd/y/ycryu/ENIGMA_OCD_MBBN/MBBN-main/experiments/ENIGMA_OCD_mbbn_OCD_train_16_model_seed_101_ensemble_4gpu/model_0: keeping ENIGMA_OCD_mbbn_OCD_train_16_model_seed_101_ensemble_4gpu_epoch_44_BEST_val_ACC.pth\n",
      "In /pscratch/sd/y/ycryu/ENIGMA_OCD_MBBN/MBBN-main/experiments/ENIGMA_OCD_mbbn_OCD_train_16_model_seed_101_ensemble_4gpu/model_9: keeping ENIGMA_OCD_mbbn_OCD_train_16_model_seed_101_ensemble_4gpu_epoch_30_BEST_val_AUROC.pth\n"
     ]
    }
   ],
   "source": [
    "import os\n",
    "\n",
    "# Set the base directory containing all model_i folders.\n",
    "base_dir = '/pscratch/sd/y/ycryu/ENIGMA_OCD_MBBN/MBBN-main/experiments/ENIGMA_OCD_mbbn_OCD_train_16_model_seed_101_ensemble_4gpu'  # Change this to your directory if needed\n",
    "\n",
    "# Loop over entries in the base directory.\n",
    "for entry in os.listdir(base_dir):\n",
    "    entry_path = os.path.join(base_dir, entry)\n",
    "    # Check if it's a directory and its name starts with \"model_\"\n",
    "\n",
    "    if os.path.isdir(entry_path) and entry.startswith(\"model_\"):\n",
    "        # List all .pth files (only in the current model directory)\n",
    "        pth_files = [f for f in os.listdir(entry_path) if f.endswith('.pth')]   \n",
    "\n",
    "        if not pth_files:\n",
    "            continue  # Skip if no .pth files found\n",
    "\n",
    "        # Determine the latest file based on modification time.\n",
    "        latest_file = max(\n",
    "            pth_files, \n",
    "            key=lambda f: os.path.getmtime(os.path.join(entry_path, f))\n",
    "        )\n",
    "        print(f\"In {entry_path}: keeping {latest_file}\")\n",
    "\n",
    "        # Delete all .pth files except the latest one.\n",
    "        # for f in pth_files:\n",
    "        #     if f != latest_file:\n",
    "        #         file_to_delete = os.path.join(entry_path, f)\n",
    "        #         print(f\"Deleting {file_to_delete}\")\n",
    "        #         os.remove(file_to_delete)"
   ]
  },
  {
   "cell_type": "code",
   "execution_count": null,
   "metadata": {},
   "outputs": [],
   "source": []
  }
 ],
 "metadata": {
  "kernelspec": {
   "display_name": "Python 3",
   "language": "python",
   "name": "python3"
  },
  "language_info": {
   "codemirror_mode": {
    "name": "ipython",
    "version": 3
   },
   "file_extension": ".py",
   "mimetype": "text/x-python",
   "name": "python",
   "nbconvert_exporter": "python",
   "pygments_lexer": "ipython3",
   "version": "3.10.16"
  }
 },
 "nbformat": 4,
 "nbformat_minor": 2
}
