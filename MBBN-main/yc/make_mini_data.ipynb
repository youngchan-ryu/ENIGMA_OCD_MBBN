{
 "cells": [
  {
   "cell_type": "code",
   "execution_count": 1,
   "metadata": {},
   "outputs": [],
   "source": [
    "import os\n",
    "import shutil\n",
    "\n",
    "BASE_DIR = \"/scratch/connectome/ycryu/MBBN_data_mini\"\n",
    "\n",
    "# Iterate through each city directory\n",
    "subdirs = dict()\n",
    "for city in os.listdir(BASE_DIR):\n",
    "    idx_city = city.split(\"_\")[0]\n",
    "    city_path = os.path.join(BASE_DIR, city)\n",
    "    if os.path.isdir(city_path):\n",
    "        # List subdirectories\n",
    "        try:\n",
    "            subdirs[idx_city].append(city_path)\n",
    "        except KeyError:\n",
    "            subdirs[idx_city] = [city_path]\n",
    "            "
   ]
  },
  {
   "cell_type": "code",
   "execution_count": 2,
   "metadata": {},
   "outputs": [
    {
     "name": "stdout",
     "output_type": "stream",
     "text": [
      "Deleting: Shanghai-SMCH - 80 datasets\n",
      "Deleting: Bangalore-NIMHANS - 354 datasets\n",
      "Deleting: NYSPI-Columbia-Adults - 66 datasets\n",
      "Deleting: Bergen - 49 datasets\n",
      "Deleting: Chiba-CHBSRPB - 85 datasets\n",
      "Deleting: Amsterdam-VUmc - 53 datasets\n",
      "Deleting: Yale-Pittinger-Yale-2014 - 81 datasets\n",
      "Deleting: Barcelone-Bellvitge-PROV-1.5T - 60 datasets\n",
      "Deleting: Yale-Pittinger-HCP-Trio - 39 datasets\n",
      "Deleting: Barcelone-Bellvitge-ANTIGA-1.5T - 133 datasets\n",
      "Deleting: Chiba-CHB - 38 datasets\n",
      "Deleting: Chiba-CHBC - 49 datasets\n",
      "Deleting: Braga-UMinho-Braga-1.5T - 42 datasets\n",
      "Deleting: Yale-Pittinger-HCP-Prisma - 57 datasets\n",
      "Deleting: NYSPI-Columbia-Pediatric - 30 datasets\n",
      "Deleting: Brazil - 89 datasets\n",
      "Deleting: Seoul-SNU - 91 datasets\n",
      "Deleting: Vancouver-BCCHR - 41 datasets\n",
      "Deleting: Dresden - 31 datasets\n",
      "Deleting: UCLA - 47 datasets\n",
      "Deleting: Barcelone-Bellvitge-RESP-CBT-3T - 53 datasets\n",
      "Deleting: Barcelona-HCPB - 60 datasets\n",
      "Deleting: Kyoto-KPU-Kyoto3T - 66 datasets\n",
      "Deleting: New-York - 56 datasets\n",
      "Deleting: Braga-UMinho-Braga-1.5T-act - 92 datasets\n",
      "Deleting: Yale-Gruner - 25 datasets\n",
      "Deleting: Braga-UMinho-Braga-3T - 55 datasets\n",
      "Deleting: Cape-Town-UCT-Skyra - 35 datasets\n",
      "Deleting: Kyoto-KPU-Kyoto1.5T - 21 datasets\n"
     ]
    }
   ],
   "source": [
    "for city, path_list in subdirs.items():\n",
    "    print(f\"Deleting: {city} - {len(path_list[4:])} datasets\") \n",
    "    for path_dir in path_list[4:]:\n",
    "            shutil.rmtree(path_dir)"
   ]
  },
  {
   "cell_type": "code",
   "execution_count": null,
   "metadata": {},
   "outputs": [],
   "source": []
  }
 ],
 "metadata": {
  "kernelspec": {
   "display_name": "mbbn-env",
   "language": "python",
   "name": "python3"
  },
  "language_info": {
   "codemirror_mode": {
    "name": "ipython",
    "version": 3
   },
   "file_extension": ".py",
   "mimetype": "text/x-python",
   "name": "python",
   "nbconvert_exporter": "python",
   "pygments_lexer": "ipython3",
   "version": "3.9.12"
  }
 },
 "nbformat": 4,
 "nbformat_minor": 2
}
